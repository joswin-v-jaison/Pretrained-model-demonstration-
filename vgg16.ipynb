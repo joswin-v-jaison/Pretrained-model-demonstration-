{
 "cells": [
  {
   "cell_type": "code",
   "execution_count": 25,
   "id": "1e5b0c44",
   "metadata": {},
   "outputs": [],
   "source": [
    "from tensorflow.keras.applications.vgg16 import VGG16,preprocess_input\n",
    "\n",
    "import pandas as pd"
   ]
  },
  {
   "cell_type": "code",
   "execution_count": 26,
   "id": "ee40487d",
   "metadata": {},
   "outputs": [],
   "source": [
    "pretrained_model=VGG16(weights=\"imagenet\")"
   ]
  },
  {
   "cell_type": "code",
   "execution_count": 27,
   "id": "52d25d3c",
   "metadata": {},
   "outputs": [],
   "source": [
    "labels=pd.read_json('imagenet-simple-labels.json')"
   ]
  },
  {
   "cell_type": "code",
   "execution_count": 28,
   "id": "ee874b4c",
   "metadata": {},
   "outputs": [],
   "source": [
    "labels.columns=['Classes']"
   ]
  },
  {
   "cell_type": "code",
   "execution_count": 29,
   "id": "0fd724b3",
   "metadata": {},
   "outputs": [
    {
     "data": {
      "text/html": [
       "<div>\n",
       "<style scoped>\n",
       "    .dataframe tbody tr th:only-of-type {\n",
       "        vertical-align: middle;\n",
       "    }\n",
       "\n",
       "    .dataframe tbody tr th {\n",
       "        vertical-align: top;\n",
       "    }\n",
       "\n",
       "    .dataframe thead th {\n",
       "        text-align: right;\n",
       "    }\n",
       "</style>\n",
       "<table border=\"1\" class=\"dataframe\">\n",
       "  <thead>\n",
       "    <tr style=\"text-align: right;\">\n",
       "      <th></th>\n",
       "      <th>Classes</th>\n",
       "    </tr>\n",
       "  </thead>\n",
       "  <tbody>\n",
       "    <tr>\n",
       "      <th>0</th>\n",
       "      <td>tench</td>\n",
       "    </tr>\n",
       "    <tr>\n",
       "      <th>1</th>\n",
       "      <td>goldfish</td>\n",
       "    </tr>\n",
       "    <tr>\n",
       "      <th>2</th>\n",
       "      <td>great white shark</td>\n",
       "    </tr>\n",
       "    <tr>\n",
       "      <th>3</th>\n",
       "      <td>tiger shark</td>\n",
       "    </tr>\n",
       "    <tr>\n",
       "      <th>4</th>\n",
       "      <td>hammerhead shark</td>\n",
       "    </tr>\n",
       "    <tr>\n",
       "      <th>...</th>\n",
       "      <td>...</td>\n",
       "    </tr>\n",
       "    <tr>\n",
       "      <th>995</th>\n",
       "      <td>earth star</td>\n",
       "    </tr>\n",
       "    <tr>\n",
       "      <th>996</th>\n",
       "      <td>hen-of-the-woods</td>\n",
       "    </tr>\n",
       "    <tr>\n",
       "      <th>997</th>\n",
       "      <td>bolete</td>\n",
       "    </tr>\n",
       "    <tr>\n",
       "      <th>998</th>\n",
       "      <td>ear</td>\n",
       "    </tr>\n",
       "    <tr>\n",
       "      <th>999</th>\n",
       "      <td>toilet paper</td>\n",
       "    </tr>\n",
       "  </tbody>\n",
       "</table>\n",
       "<p>1000 rows × 1 columns</p>\n",
       "</div>"
      ],
      "text/plain": [
       "               Classes\n",
       "0                tench\n",
       "1             goldfish\n",
       "2    great white shark\n",
       "3          tiger shark\n",
       "4     hammerhead shark\n",
       "..                 ...\n",
       "995         earth star\n",
       "996   hen-of-the-woods\n",
       "997             bolete\n",
       "998                ear\n",
       "999       toilet paper\n",
       "\n",
       "[1000 rows x 1 columns]"
      ]
     },
     "execution_count": 29,
     "metadata": {},
     "output_type": "execute_result"
    }
   ],
   "source": [
    "labels"
   ]
  },
  {
   "cell_type": "code",
   "execution_count": 30,
   "id": "120c388e",
   "metadata": {},
   "outputs": [],
   "source": [
    "from keras.preprocessing.image import load_img\n",
    "import numpy as np"
   ]
  },
  {
   "cell_type": "code",
   "execution_count": 31,
   "id": "a373eb90",
   "metadata": {},
   "outputs": [],
   "source": [
    "img=load_img('bird1.jfif',target_size=(224,224))"
   ]
  },
  {
   "cell_type": "code",
   "execution_count": 32,
   "id": "2bd9fd67",
   "metadata": {},
   "outputs": [],
   "source": [
    "\n",
    "newimg=np.array(img)\n",
    "newimg=preprocess_input(newimg)"
   ]
  },
  {
   "cell_type": "code",
   "execution_count": 33,
   "id": "867bfae5",
   "metadata": {},
   "outputs": [],
   "source": [
    "newimg=newimg.reshape(1,224,224,3)"
   ]
  },
  {
   "cell_type": "code",
   "execution_count": 34,
   "id": "b9c9512e",
   "metadata": {},
   "outputs": [
    {
     "name": "stdout",
     "output_type": "stream",
     "text": [
      "1/1 [==============================] - 1s 565ms/step\n"
     ]
    }
   ],
   "source": [
    "preds=pretrained_model.predict(newimg)"
   ]
  },
  {
   "cell_type": "code",
   "execution_count": 35,
   "id": "aa7f0532",
   "metadata": {},
   "outputs": [],
   "source": [
    "labels['probability']=np.round(preds.flatten(),2)"
   ]
  },
  {
   "cell_type": "code",
   "execution_count": 36,
   "id": "7ee2ca5e",
   "metadata": {},
   "outputs": [
    {
     "data": {
      "text/html": [
       "<div>\n",
       "<style scoped>\n",
       "    .dataframe tbody tr th:only-of-type {\n",
       "        vertical-align: middle;\n",
       "    }\n",
       "\n",
       "    .dataframe tbody tr th {\n",
       "        vertical-align: top;\n",
       "    }\n",
       "\n",
       "    .dataframe thead th {\n",
       "        text-align: right;\n",
       "    }\n",
       "</style>\n",
       "<table border=\"1\" class=\"dataframe\">\n",
       "  <thead>\n",
       "    <tr style=\"text-align: right;\">\n",
       "      <th></th>\n",
       "      <th>Classes</th>\n",
       "      <th>probability</th>\n",
       "    </tr>\n",
       "  </thead>\n",
       "  <tbody>\n",
       "    <tr>\n",
       "      <th>16</th>\n",
       "      <td>bulbul</td>\n",
       "      <td>0.33</td>\n",
       "    </tr>\n",
       "    <tr>\n",
       "      <th>18</th>\n",
       "      <td>magpie</td>\n",
       "      <td>0.26</td>\n",
       "    </tr>\n",
       "    <tr>\n",
       "      <th>91</th>\n",
       "      <td>coucal</td>\n",
       "      <td>0.10</td>\n",
       "    </tr>\n",
       "    <tr>\n",
       "      <th>93</th>\n",
       "      <td>hornbill</td>\n",
       "      <td>0.05</td>\n",
       "    </tr>\n",
       "    <tr>\n",
       "      <th>21</th>\n",
       "      <td>kite</td>\n",
       "      <td>0.03</td>\n",
       "    </tr>\n",
       "    <tr>\n",
       "      <th>...</th>\n",
       "      <td>...</td>\n",
       "      <td>...</td>\n",
       "    </tr>\n",
       "    <tr>\n",
       "      <th>349</th>\n",
       "      <td>bighorn sheep</td>\n",
       "      <td>0.00</td>\n",
       "    </tr>\n",
       "    <tr>\n",
       "      <th>350</th>\n",
       "      <td>Alpine ibex</td>\n",
       "      <td>0.00</td>\n",
       "    </tr>\n",
       "    <tr>\n",
       "      <th>351</th>\n",
       "      <td>hartebeest</td>\n",
       "      <td>0.00</td>\n",
       "    </tr>\n",
       "    <tr>\n",
       "      <th>352</th>\n",
       "      <td>impala</td>\n",
       "      <td>0.00</td>\n",
       "    </tr>\n",
       "    <tr>\n",
       "      <th>999</th>\n",
       "      <td>toilet paper</td>\n",
       "      <td>0.00</td>\n",
       "    </tr>\n",
       "  </tbody>\n",
       "</table>\n",
       "<p>1000 rows × 2 columns</p>\n",
       "</div>"
      ],
      "text/plain": [
       "           Classes  probability\n",
       "16          bulbul         0.33\n",
       "18          magpie         0.26\n",
       "91          coucal         0.10\n",
       "93        hornbill         0.05\n",
       "21            kite         0.03\n",
       "..             ...          ...\n",
       "349  bighorn sheep         0.00\n",
       "350    Alpine ibex         0.00\n",
       "351     hartebeest         0.00\n",
       "352         impala         0.00\n",
       "999   toilet paper         0.00\n",
       "\n",
       "[1000 rows x 2 columns]"
      ]
     },
     "execution_count": 36,
     "metadata": {},
     "output_type": "execute_result"
    }
   ],
   "source": [
    "labels.sort_values('probability',ascending=False)"
   ]
  },
  {
   "cell_type": "code",
   "execution_count": 37,
   "id": "e4b9f88a",
   "metadata": {},
   "outputs": [],
   "source": [
    "from tensorflow.keras.models import Sequential\n",
    "from tensorflow.keras.layers import Dense\n",
    "import matplotlib.pyplot as plt\n",
    "import glob\n"
   ]
  },
  {
   "cell_type": "code",
   "execution_count": 38,
   "id": "9ed93d4a",
   "metadata": {},
   "outputs": [],
   "source": [
    "baseline_model=Sequential()"
   ]
  },
  {
   "cell_type": "code",
   "execution_count": 39,
   "id": "8c6829e6",
   "metadata": {},
   "outputs": [],
   "source": [
    "for layer in pretrained_model.layers[:-1]:\n",
    "    layer.trainable=False\n",
    "    baseline_model.add(layer)"
   ]
  },
  {
   "cell_type": "code",
   "execution_count": 40,
   "id": "cbfad2a2",
   "metadata": {},
   "outputs": [],
   "source": [
    "baseline_model.add(Dense(1,activation=\"sigmoid\"))"
   ]
  },
  {
   "cell_type": "code",
   "execution_count": 41,
   "id": "90d65fda",
   "metadata": {},
   "outputs": [
    {
     "name": "stdout",
     "output_type": "stream",
     "text": [
      "Model: \"sequential_1\"\n",
      "_________________________________________________________________\n",
      " Layer (type)                Output Shape              Param #   \n",
      "=================================================================\n",
      " block1_conv1 (Conv2D)       (None, 224, 224, 64)      1792      \n",
      "                                                                 \n",
      " block1_conv2 (Conv2D)       (None, 224, 224, 64)      36928     \n",
      "                                                                 \n",
      " block1_pool (MaxPooling2D)  (None, 112, 112, 64)      0         \n",
      "                                                                 \n",
      " block2_conv1 (Conv2D)       (None, 112, 112, 128)     73856     \n",
      "                                                                 \n",
      " block2_conv2 (Conv2D)       (None, 112, 112, 128)     147584    \n",
      "                                                                 \n",
      " block2_pool (MaxPooling2D)  (None, 56, 56, 128)       0         \n",
      "                                                                 \n",
      " block3_conv1 (Conv2D)       (None, 56, 56, 256)       295168    \n",
      "                                                                 \n",
      " block3_conv2 (Conv2D)       (None, 56, 56, 256)       590080    \n",
      "                                                                 \n",
      " block3_conv3 (Conv2D)       (None, 56, 56, 256)       590080    \n",
      "                                                                 \n",
      " block3_pool (MaxPooling2D)  (None, 28, 28, 256)       0         \n",
      "                                                                 \n",
      " block4_conv1 (Conv2D)       (None, 28, 28, 512)       1180160   \n",
      "                                                                 \n",
      " block4_conv2 (Conv2D)       (None, 28, 28, 512)       2359808   \n",
      "                                                                 \n",
      " block4_conv3 (Conv2D)       (None, 28, 28, 512)       2359808   \n",
      "                                                                 \n",
      " block4_pool (MaxPooling2D)  (None, 14, 14, 512)       0         \n",
      "                                                                 \n",
      " block5_conv1 (Conv2D)       (None, 14, 14, 512)       2359808   \n",
      "                                                                 \n",
      " block5_conv2 (Conv2D)       (None, 14, 14, 512)       2359808   \n",
      "                                                                 \n",
      " block5_conv3 (Conv2D)       (None, 14, 14, 512)       2359808   \n",
      "                                                                 \n",
      " block5_pool (MaxPooling2D)  (None, 7, 7, 512)         0         \n",
      "                                                                 \n",
      " flatten (Flatten)           (None, 25088)             0         \n",
      "                                                                 \n",
      " fc1 (Dense)                 (None, 4096)              102764544 \n",
      "                                                                 \n",
      " fc2 (Dense)                 (None, 4096)              16781312  \n",
      "                                                                 \n",
      " dense_1 (Dense)             (None, 1)                 4097      \n",
      "                                                                 \n",
      "=================================================================\n",
      "Total params: 134264641 (512.18 MB)\n",
      "Trainable params: 4097 (16.00 KB)\n",
      "Non-trainable params: 134260544 (512.16 MB)\n",
      "_________________________________________________________________\n"
     ]
    }
   ],
   "source": [
    "baseline_model.summary()"
   ]
  },
  {
   "cell_type": "code",
   "execution_count": 42,
   "id": "cecace16",
   "metadata": {},
   "outputs": [],
   "source": [
    "path=\"cars/*\""
   ]
  },
  {
   "cell_type": "code",
   "execution_count": 43,
   "id": "814862bd",
   "metadata": {},
   "outputs": [
    {
     "name": "stdout",
     "output_type": "stream",
     "text": [
      "cars\\1.jpg\n",
      "cars\\10.jpg\n",
      "cars\\11.jpg\n",
      "cars\\12.jpg\n",
      "cars\\13.jpg\n",
      "cars\\14.jpg\n",
      "cars\\15.jpg\n",
      "cars\\16.jpg\n",
      "cars\\17.jpg\n",
      "cars\\18.jpg\n",
      "cars\\19.jpg\n",
      "cars\\2.jpg\n",
      "cars\\20.jpg\n",
      "cars\\21.jpg\n",
      "cars\\22.jpg\n",
      "cars\\23.jpg\n",
      "cars\\24.jpg\n",
      "cars\\25.jpg\n",
      "cars\\26.jpg\n",
      "cars\\27.jpg\n",
      "cars\\28.jpg\n",
      "cars\\29.jpg\n",
      "cars\\3.jpg\n",
      "cars\\30.jpg\n",
      "cars\\31.jpg\n",
      "cars\\32.jpg\n",
      "cars\\33.jpg\n",
      "cars\\34.jpg\n",
      "cars\\35.jpg\n",
      "cars\\36.jpg\n",
      "cars\\37.jpg\n",
      "cars\\38.jpg\n",
      "cars\\39.jpg\n",
      "cars\\4.jpg\n",
      "cars\\40.jpg\n",
      "cars\\41.jpg\n",
      "cars\\42.jpg\n",
      "cars\\43.jpg\n",
      "cars\\44.jpg\n",
      "cars\\45.jpg\n",
      "cars\\46.jpg\n",
      "cars\\47.jpg\n",
      "cars\\48.jpg\n",
      "cars\\49.jpg\n",
      "cars\\5.jpg\n",
      "cars\\50.jpg\n",
      "cars\\6.jpg\n",
      "cars\\7.jpg\n",
      "cars\\8.jpg\n",
      "cars\\9.jpg\n"
     ]
    }
   ],
   "source": [
    "import glob\n",
    "\n",
    "folder_path = \"cars/*\"\n",
    "contents = glob.glob(folder_path + '/*')\n",
    "\n",
    "for item in glob.glob(folder_path):\n",
    "    print(item)\n"
   ]
  },
  {
   "cell_type": "code",
   "execution_count": 44,
   "id": "d87e5c90",
   "metadata": {},
   "outputs": [],
   "source": [
    "xtrain=list()\n",
    "ytrain=list()\n",
    "for img_path in glob.glob(folder_path):\n",
    "    input_img=load_img(img_path,target_size=(224,224))\n",
    "    input_img=np.array(input_img)\n",
    "    input_img=preprocess_input(input_img)\n",
    "    xtrain.append(input_img)\n",
    "    ytrain.append(0)"
   ]
  },
  {
   "cell_type": "code",
   "execution_count": 45,
   "id": "ee76f2f8",
   "metadata": {},
   "outputs": [],
   "source": [
    "planes = \"planes/*\"\n",
    "for img_path in glob.glob(planes):\n",
    "    input_img=load_img(img_path,target_size=(224,224))\n",
    "    input_img=np.array(input_img)\n",
    "    input_img=preprocess_input(input_img)\n",
    "    xtrain.append(input_img)\n",
    "    ytrain.append(1)"
   ]
  },
  {
   "cell_type": "code",
   "execution_count": 46,
   "id": "4b728d27",
   "metadata": {},
   "outputs": [],
   "source": [
    "xtrain=np.array(xtrain)\n",
    "ytrain=np.array(ytrain)"
   ]
  },
  {
   "cell_type": "code",
   "execution_count": 47,
   "id": "19818d2d",
   "metadata": {},
   "outputs": [
    {
     "name": "stdout",
     "output_type": "stream",
     "text": [
      "Epoch 1/10\n",
      "3/3 [==============================] - 33s 12s/step - loss: 0.5338 - accuracy: 0.7250 - val_loss: 0.1094 - val_accuracy: 1.0000\n",
      "Epoch 2/10\n",
      "3/3 [==============================] - 35s 12s/step - loss: 0.0528 - accuracy: 1.0000 - val_loss: 0.0470 - val_accuracy: 1.0000\n",
      "Epoch 3/10\n",
      "3/3 [==============================] - 30s 10s/step - loss: 0.0123 - accuracy: 1.0000 - val_loss: 0.0216 - val_accuracy: 1.0000\n",
      "Epoch 4/10\n",
      "3/3 [==============================] - 32s 10s/step - loss: 0.0045 - accuracy: 1.0000 - val_loss: 0.0119 - val_accuracy: 1.0000\n",
      "Epoch 5/10\n",
      "3/3 [==============================] - 30s 11s/step - loss: 0.0021 - accuracy: 1.0000 - val_loss: 0.0074 - val_accuracy: 1.0000\n",
      "Epoch 6/10\n",
      "3/3 [==============================] - 33s 12s/step - loss: 0.0013 - accuracy: 1.0000 - val_loss: 0.0052 - val_accuracy: 1.0000\n",
      "Epoch 7/10\n",
      "3/3 [==============================] - 28s 9s/step - loss: 9.4398e-04 - accuracy: 1.0000 - val_loss: 0.0040 - val_accuracy: 1.0000\n",
      "Epoch 8/10\n",
      "3/3 [==============================] - 39s 14s/step - loss: 6.7203e-04 - accuracy: 1.0000 - val_loss: 0.0033 - val_accuracy: 1.0000\n",
      "Epoch 9/10\n",
      "3/3 [==============================] - 36s 11s/step - loss: 5.4761e-04 - accuracy: 1.0000 - val_loss: 0.0028 - val_accuracy: 1.0000\n",
      "Epoch 10/10\n",
      "3/3 [==============================] - 32s 10s/step - loss: 4.5532e-04 - accuracy: 1.0000 - val_loss: 0.0026 - val_accuracy: 1.0000\n"
     ]
    },
    {
     "data": {
      "text/plain": [
       "<keras.src.callbacks.History at 0x1578095dfc0>"
      ]
     },
     "execution_count": 47,
     "metadata": {},
     "output_type": "execute_result"
    }
   ],
   "source": [
    "baseline_model.compile(optimizer=\"adam\",loss=\"binary_crossentropy\",metrics=[\"accuracy\"])\n",
    "baseline_model.fit(x=xtrain,y=ytrain,epochs=10,validation_split=0.2)"
   ]
  },
  {
   "cell_type": "code",
   "execution_count": 49,
   "id": "793eed1f",
   "metadata": {},
   "outputs": [],
   "source": [
    "img_path='plane_test.jpg'\n",
    "input_img=load_img(img_path,target_size=(224,224))\n",
    "input_img=np.array(input_img)\n",
    "input_img=preprocess_input(input_img)\n",
    "input_img=input_img.reshape(1,224,224,3)"
   ]
  },
  {
   "cell_type": "code",
   "execution_count": 50,
   "id": "8bc98d33",
   "metadata": {},
   "outputs": [
    {
     "name": "stdout",
     "output_type": "stream",
     "text": [
      "1/1 [==============================] - 0s 427ms/step\n",
      "[[0.99999994]]\n"
     ]
    }
   ],
   "source": [
    "preds=baseline_model.predict(input_img)\n",
    "print(preds)"
   ]
  },
  {
   "cell_type": "markdown",
   "id": "d32cb840",
   "metadata": {},
   "source": [
    "### feature extraction using pretrained model"
   ]
  },
  {
   "cell_type": "code",
   "execution_count": 52,
   "id": "61c4cd72",
   "metadata": {},
   "outputs": [],
   "source": [
    "pretrained_model=VGG16(weights=\"imagenet\")\n",
    "new_model=Sequential()"
   ]
  },
  {
   "cell_type": "code",
   "execution_count": 55,
   "id": "7cf3de45",
   "metadata": {},
   "outputs": [],
   "source": [
    "for layer in pretrained_model.layers[:-1]:\n",
    "    layer.trainable=False\n",
    "    new_model.add(layer)"
   ]
  },
  {
   "cell_type": "code",
   "execution_count": 56,
   "id": "2fcd3138",
   "metadata": {},
   "outputs": [],
   "source": [
    "new_model.build()"
   ]
  },
  {
   "cell_type": "code",
   "execution_count": 57,
   "id": "4b8cc9c3",
   "metadata": {},
   "outputs": [],
   "source": [
    "m_image='kok.jpeg'"
   ]
  },
  {
   "cell_type": "code",
   "execution_count": 59,
   "id": "4d070cc9",
   "metadata": {},
   "outputs": [],
   "source": [
    "input_img=load_img(m_image,target_size=(224,224))\n",
    "input_img=np.array(input_img)\n",
    "input_img=preprocess_input(input_img)\n",
    "input_img=input_img.reshape(1,224,224,3)\n"
   ]
  },
  {
   "cell_type": "code",
   "execution_count": 61,
   "id": "86b8ada2",
   "metadata": {},
   "outputs": [
    {
     "name": "stdout",
     "output_type": "stream",
     "text": [
      "1/1 [==============================] - 0s 287ms/step\n"
     ]
    }
   ],
   "source": [
    "features=new_model.predict(input_img)"
   ]
  },
  {
   "cell_type": "code",
   "execution_count": 64,
   "id": "ef7ec36f",
   "metadata": {},
   "outputs": [
    {
     "data": {
      "text/plain": [
       "(1, 4096)"
      ]
     },
     "execution_count": 64,
     "metadata": {},
     "output_type": "execute_result"
    }
   ],
   "source": [
    "features.shape"
   ]
  },
  {
   "cell_type": "code",
   "execution_count": 66,
   "id": "52f1a126",
   "metadata": {},
   "outputs": [
    {
     "name": "stdout",
     "output_type": "stream",
     "text": [
      "Model: \"sequential_2\"\n",
      "_________________________________________________________________\n",
      " Layer (type)                Output Shape              Param #   \n",
      "=================================================================\n",
      " block1_conv1 (Conv2D)       (None, 224, 224, 64)      1792      \n",
      "                                                                 \n",
      " block1_conv2 (Conv2D)       (None, 224, 224, 64)      36928     \n",
      "                                                                 \n",
      " block1_pool (MaxPooling2D)  (None, 112, 112, 64)      0         \n",
      "                                                                 \n",
      " block2_conv1 (Conv2D)       (None, 112, 112, 128)     73856     \n",
      "                                                                 \n",
      " block2_conv2 (Conv2D)       (None, 112, 112, 128)     147584    \n",
      "                                                                 \n",
      " block2_pool (MaxPooling2D)  (None, 56, 56, 128)       0         \n",
      "                                                                 \n",
      " block3_conv1 (Conv2D)       (None, 56, 56, 256)       295168    \n",
      "                                                                 \n",
      " block3_conv2 (Conv2D)       (None, 56, 56, 256)       590080    \n",
      "                                                                 \n",
      " block3_conv3 (Conv2D)       (None, 56, 56, 256)       590080    \n",
      "                                                                 \n",
      " block3_pool (MaxPooling2D)  (None, 28, 28, 256)       0         \n",
      "                                                                 \n",
      " block4_conv1 (Conv2D)       (None, 28, 28, 512)       1180160   \n",
      "                                                                 \n",
      " block4_conv2 (Conv2D)       (None, 28, 28, 512)       2359808   \n",
      "                                                                 \n",
      " block4_conv3 (Conv2D)       (None, 28, 28, 512)       2359808   \n",
      "                                                                 \n",
      " block4_pool (MaxPooling2D)  (None, 14, 14, 512)       0         \n",
      "                                                                 \n",
      " block5_conv1 (Conv2D)       (None, 14, 14, 512)       2359808   \n",
      "                                                                 \n",
      " block5_conv2 (Conv2D)       (None, 14, 14, 512)       2359808   \n",
      "                                                                 \n",
      " block5_conv3 (Conv2D)       (None, 14, 14, 512)       2359808   \n",
      "                                                                 \n",
      " block5_pool (MaxPooling2D)  (None, 7, 7, 512)         0         \n",
      "                                                                 \n",
      " flatten (Flatten)           (None, 25088)             0         \n",
      "                                                                 \n",
      " fc1 (Dense)                 (None, 4096)              102764544 \n",
      "                                                                 \n",
      " fc2 (Dense)                 (None, 4096)              16781312  \n",
      "                                                                 \n",
      "=================================================================\n",
      "Total params: 134260544 (512.16 MB)\n",
      "Trainable params: 0 (0.00 Byte)\n",
      "Non-trainable params: 134260544 (512.16 MB)\n",
      "_________________________________________________________________\n"
     ]
    }
   ],
   "source": [
    "new_model.summary()"
   ]
  },
  {
   "cell_type": "code",
   "execution_count": null,
   "id": "ed8e4ac1",
   "metadata": {},
   "outputs": [],
   "source": []
  }
 ],
 "metadata": {
  "kernelspec": {
   "display_name": "Python 3 (ipykernel)",
   "language": "python",
   "name": "python3"
  },
  "language_info": {
   "codemirror_mode": {
    "name": "ipython",
    "version": 3
   },
   "file_extension": ".py",
   "mimetype": "text/x-python",
   "name": "python",
   "nbconvert_exporter": "python",
   "pygments_lexer": "ipython3",
   "version": "3.10.9"
  }
 },
 "nbformat": 4,
 "nbformat_minor": 5
}
